{
 "cells": [
  {
   "cell_type": "code",
   "execution_count": 5,
   "id": "ec450e57-6f43-4d4b-bc45-d69f9102bcc2",
   "metadata": {},
   "outputs": [
    {
     "name": "stdout",
     "output_type": "stream",
     "text": [
      "    S.No             Name   Age  Gender                     Email   Salary\n",
      "0    NaN              NaN   NaN     NaN                       NaN      NaN\n",
      "1    1.0  lathish krishna  25.0    male   lathishkrishna@gmil.com  50408.0\n",
      "2    2.0           kumran  24.0    Male      kumaran.16@gmail.com  43768.0\n",
      "3    3.0            Akash  25.0    Male     Akash.james@gmail.com  67432.0\n",
      "4    4.0          lakshya  22.0  Female         lakshya@gmail.com  67666.0\n",
      "5    5.0            Irene  23.0  Female           irene@gmail.com  34456.0\n",
      "6    6.0           Ashika  27.0  Female  ashika.mohamad@gmail.com  46781.0\n",
      "7    7.0           Gopika  28.0  Female         gopi.ka@gmail.com  60796.0\n",
      "8    8.0             Asha  31.0  Female            asha@gmail.com  88120.0\n",
      "9    9.0         Nandhini  29.0  Female        Nandhini@gmail.com  54908.0\n",
      "10  10.0         Amarnath  25.0    Male        amarnath@gmail.com  76288.0\n",
      "11  11.0    Ranjith kumar  28.0    Male   ranjith.kumar@gmail.com  68928.0\n",
      "12  12.0          Sabrina  26.0  Female         sabrina@gmail.com  48548.0\n",
      "13  13.0         Niranjan  22.0    Male        niranjan@gmail.com  59595.0\n",
      "14  14.0            Rohit  34.0    Male           rohit@gmail.com  86443.0\n",
      "15  15.0          Lakshmi  30.0  Female         lakshmi@gmail.com  37475.0\n",
      "16  16.0    Nithyakalyani  25.0  Female   nithyakalyani@gmail.com  54637.0\n",
      "17  17.0      Padmanabhan  28.0    Male           padhu@gmail.com  73411.0\n",
      "18  18.0            Rahul  27.0    Male           rahul@gmail.com  98212.0\n",
      "19  19.0          Shankar  32.0    Male         shankar@gmail.com  73838.0\n",
      "20  20.0            Shiva  33.0    Male           shiva@gmail.com  90873.0\n",
      "21  21.0         Susmitha  24.0  Female        susmitha@gmail.com  36474.0\n",
      "22  22.0          Praveen  24.0    Male         praveen@gmail.com  78904.0\n",
      "23  23.0        Rajarajan  36.0    Male       Rajarajan@gmail.com  34576.0\n",
      "24  24.0     Sathishkumar  38.0    Male    sathishkumar@gmail.com  39123.0\n",
      "25  25.0    Rithik roshan  25.0    Male   rithik.roshan@gmail.com  59002.0\n"
     ]
    }
   ],
   "source": [
    "import pandas as pd\n",
    "d=pd.read_csv(\"book006.csv\")\n",
    "print(d)"
   ]
  },
  {
   "cell_type": "code",
   "execution_count": 6,
   "id": "ce356492-c1bc-43de-8983-b5806fe518be",
   "metadata": {},
   "outputs": [
    {
     "name": "stdout",
     "output_type": "stream",
     "text": [
      "columns Index(['S.No', 'Name', 'Age', 'Gender', 'Email', 'Salary'], dtype='object')\n",
      "(26, 6)\n"
     ]
    }
   ],
   "source": [
    "df=pd.DataFrame(d)\n",
    "print(\"columns\",df.columns)\n",
    "print(df.shape)"
   ]
  },
  {
   "cell_type": "code",
   "execution_count": 11,
   "id": "422526be-6f52-474f-81f2-352b55e31477",
   "metadata": {},
   "outputs": [
    {
     "name": "stdout",
     "output_type": "stream",
     "text": [
      "Name 0                 NaN\n",
      "1     lathish krishna\n",
      "2              kumran\n",
      "3               Akash\n",
      "4             lakshya\n",
      "5               Irene\n",
      "6              Ashika\n",
      "7              Gopika\n",
      "8                Asha\n",
      "9            Nandhini\n",
      "10           Amarnath\n",
      "11      Ranjith kumar\n",
      "12            Sabrina\n",
      "13           Niranjan\n",
      "14              Rohit\n",
      "15            Lakshmi\n",
      "16      Nithyakalyani\n",
      "17        Padmanabhan\n",
      "18              Rahul\n",
      "19            Shankar\n",
      "20              Shiva\n",
      "21           Susmitha\n",
      "22            Praveen\n",
      "23          Rajarajan\n",
      "24       Sathishkumar\n",
      "25      Rithik roshan\n",
      "Name: Name, dtype: object\n"
     ]
    }
   ],
   "source": [
    "import pandas as pd \n",
    "print(\"Name\",df['Name'])"
   ]
  },
  {
   "cell_type": "code",
   "execution_count": 13,
   "id": "53fa5221-1a6c-4c13-a0e5-4b1a1fb7a981",
   "metadata": {},
   "outputs": [
    {
     "name": "stdout",
     "output_type": "stream",
     "text": [
      "   S.No             Name   Age Gender                    Email   Salary\n",
      "1   1.0  lathish krishna  25.0   male  lathishkrishna@gmil.com  50408.0\n",
      "2   2.0           kumran  24.0   Male     kumaran.16@gmail.com  43768.0\n"
     ]
    }
   ],
   "source": [
    "print(df[1:3])"
   ]
  },
  {
   "cell_type": "code",
   "execution_count": 15,
   "id": "cbb675e8-bf0e-4c45-8115-dfb5074ad566",
   "metadata": {},
   "outputs": [
    {
     "name": "stdout",
     "output_type": "stream",
     "text": [
      "particular person details S.No                     9.0\n",
      "Name                Nandhini\n",
      "Age                     29.0\n",
      "Gender                Female\n",
      "Email     Nandhini@gmail.com\n",
      "Salary               54908.0\n",
      "Name: 9, dtype: object\n"
     ]
    }
   ],
   "source": [
    "print(\"particular person details\",df.loc[9])"
   ]
  },
  {
   "cell_type": "code",
   "execution_count": 25,
   "id": "97d4bfac-e1c1-4234-9d8d-5ff6bf4952ae",
   "metadata": {},
   "outputs": [
    {
     "name": "stdout",
     "output_type": "stream",
     "text": [
      "   S.No    Name   Age Gender                 Email   Salary\n",
      "2   2.0  kumran  24.0   Male  kumaran.16@gmail.com  43768.0\n"
     ]
    }
   ],
   "source": [
    "print(d.loc[d['Salary']==43768.0])"
   ]
  },
  {
   "cell_type": "code",
   "execution_count": 20,
   "id": "692ad4cf-05cf-4ac5-944c-bf6f7a5d040a",
   "metadata": {},
   "outputs": [
    {
     "name": "stdout",
     "output_type": "stream",
     "text": [
      "0           NaN\n",
      "1     50.458458\n",
      "2     43.811812\n",
      "3     67.499499\n",
      "4     67.733734\n",
      "5     34.490490\n",
      "6     46.827828\n",
      "7     60.856857\n",
      "8     88.208208\n",
      "9     54.962963\n",
      "10    76.364364\n",
      "11    68.996997\n",
      "12    48.596597\n",
      "13    59.654655\n",
      "14    86.529530\n",
      "15    37.512513\n",
      "16    54.691692\n",
      "17    73.484484\n",
      "18    98.310310\n",
      "19    73.911912\n",
      "20    90.963964\n",
      "21    36.510511\n",
      "22    78.982983\n",
      "23    34.610611\n",
      "24    39.162162\n",
      "25    59.061061\n",
      "Name: Salary, dtype: float64\n"
     ]
    }
   ],
   "source": [
    "df=d['Salary']/999\n",
    "print(df)"
   ]
  },
  {
   "cell_type": "code",
   "execution_count": null,
   "id": "fd693d83-82e3-4520-84d2-4401b2fea6b8",
   "metadata": {},
   "outputs": [],
   "source": []
  }
 ],
 "metadata": {
  "kernelspec": {
   "display_name": "Python 3 (ipykernel)",
   "language": "python",
   "name": "python3"
  },
  "language_info": {
   "codemirror_mode": {
    "name": "ipython",
    "version": 3
   },
   "file_extension": ".py",
   "mimetype": "text/x-python",
   "name": "python",
   "nbconvert_exporter": "python",
   "pygments_lexer": "ipython3",
   "version": "3.12.7"
  }
 },
 "nbformat": 4,
 "nbformat_minor": 5
}
